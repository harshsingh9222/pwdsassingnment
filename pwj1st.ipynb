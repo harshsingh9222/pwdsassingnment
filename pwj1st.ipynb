{
 "cells": [
  {
   "cell_type": "markdown",
   "id": "6b98abb5-f56b-4bac-98a0-a09af9b62953",
   "metadata": {},
   "source": [
    "Question 1:"
   ]
  },
  {
   "cell_type": "code",
   "execution_count": 19,
   "id": "86e3b5a3-3dd9-443d-9891-fca0eff691b9",
   "metadata": {
    "jp-MarkdownHeadingCollapsed": true,
    "tags": []
   },
   "outputs": [],
   "source": [
    "s=\"pwskills\""
   ]
  },
  {
   "cell_type": "code",
   "execution_count": 14,
   "id": "a9e4fd6b-abbc-4436-b37f-63baeb67103a",
   "metadata": {},
   "outputs": [],
   "source": [
    "l=[12,13,14,'A',\"python\",\"harsh\",True,False,13.78,3+4j]"
   ]
  },
  {
   "cell_type": "code",
   "execution_count": 6,
   "id": "86cbf1ce-8723-43b0-a152-bd3fbe88e03a",
   "metadata": {},
   "outputs": [],
   "source": [
    "f=14.77"
   ]
  },
  {
   "cell_type": "code",
   "execution_count": 7,
   "id": "968eb836-c608-4f5e-a43f-d05e266a921e",
   "metadata": {},
   "outputs": [],
   "source": [
    "tup1=('Python','SQL')"
   ]
  },
  {
   "cell_type": "markdown",
   "id": "ecb1185d-6b48-4d89-bb18-b0b1b962e229",
   "metadata": {},
   "source": [
    "Question 2:"
   ]
  },
  {
   "cell_type": "code",
   "execution_count": 1,
   "id": "32b104be-a93b-46c3-9e47-acf233237873",
   "metadata": {},
   "outputs": [],
   "source": [
    "var1=''"
   ]
  },
  {
   "cell_type": "code",
   "execution_count": 4,
   "id": "6e2edb25-afa3-4094-90df-4cbe04784927",
   "metadata": {},
   "outputs": [
    {
     "data": {
      "text/plain": [
       "str"
      ]
     },
     "execution_count": 4,
     "metadata": {},
     "output_type": "execute_result"
    }
   ],
   "source": [
    "type(var1)"
   ]
  },
  {
   "cell_type": "code",
   "execution_count": 12,
   "id": "b6392714-0401-44f8-835b-3a495d66020d",
   "metadata": {},
   "outputs": [],
   "source": [
    "var2='[DS,ML,Python]'"
   ]
  },
  {
   "cell_type": "code",
   "execution_count": 13,
   "id": "f4dc5ff6-331b-4751-ac1e-3460ab13ddf1",
   "metadata": {},
   "outputs": [
    {
     "data": {
      "text/plain": [
       "str"
      ]
     },
     "execution_count": 13,
     "metadata": {},
     "output_type": "execute_result"
    }
   ],
   "source": [
    "type(var2)"
   ]
  },
  {
   "cell_type": "code",
   "execution_count": 17,
   "id": "d65be8c4-d42b-46f3-bf92-f63470cabbe9",
   "metadata": {},
   "outputs": [],
   "source": [
    "var3=['DS','ML','Python']"
   ]
  },
  {
   "cell_type": "code",
   "execution_count": 18,
   "id": "c86e19e9-5140-469d-9c8e-6dadc0d5071d",
   "metadata": {},
   "outputs": [
    {
     "data": {
      "text/plain": [
       "list"
      ]
     },
     "execution_count": 18,
     "metadata": {},
     "output_type": "execute_result"
    }
   ],
   "source": [
    "type(var3)"
   ]
  },
  {
   "cell_type": "code",
   "execution_count": 19,
   "id": "2de9a0e7-49e9-4423-830c-6f3b67a0b5f4",
   "metadata": {},
   "outputs": [],
   "source": [
    "var4=1"
   ]
  },
  {
   "cell_type": "code",
   "execution_count": 20,
   "id": "c4c336a7-7c69-455f-9ff7-8af83cb41e3c",
   "metadata": {},
   "outputs": [
    {
     "data": {
      "text/plain": [
       "int"
      ]
     },
     "execution_count": 20,
     "metadata": {},
     "output_type": "execute_result"
    }
   ],
   "source": [
    "type(var4)"
   ]
  },
  {
   "cell_type": "markdown",
   "id": "9dc39494-ec4a-45d9-908f-210d386f6a42",
   "metadata": {},
   "source": [
    "Question 3"
   ]
  },
  {
   "cell_type": "raw",
   "id": "57f0f3c1-44ec-477d-9be3-db31bfeaf447",
   "metadata": {
    "tags": []
   },
   "source": [
    "# 1 \"/\" is used to divide two integer data\n",
    "# 2 \"%\" is used to find remainder when an integer is divided by another\n",
    "# 3 \"//\" is used to divide but till the integer part only\n",
    "# 4 \"**\" is used to do give exponential to a number(integer)\n"
   ]
  },
  {
   "cell_type": "markdown",
   "id": "f37fee80-1da4-459a-90ea-f484c41943cd",
   "metadata": {},
   "source": [
    "Question 4"
   ]
  },
  {
   "cell_type": "code",
   "execution_count": 4,
   "id": "79989ce6-97e4-4d04-b7eb-54ebffd208ec",
   "metadata": {},
   "outputs": [
    {
     "data": {
      "text/plain": [
       "[12, 13, 14, 'A', 'python', 'harsh', True, False, 13.78, (3+4j)]"
      ]
     },
     "execution_count": 4,
     "metadata": {},
     "output_type": "execute_result"
    }
   ],
   "source": [
    " l"
   ]
  },
  {
   "cell_type": "code",
   "execution_count": 5,
   "id": "1dd7793c-bbda-43b0-afc5-dd1544d5be17",
   "metadata": {},
   "outputs": [
    {
     "name": "stdout",
     "output_type": "stream",
     "text": [
      "12\n",
      "<class 'int'>\n",
      "13\n",
      "<class 'int'>\n",
      "14\n",
      "<class 'int'>\n",
      "A\n",
      "<class 'str'>\n",
      "python\n",
      "<class 'str'>\n",
      "harsh\n",
      "<class 'str'>\n",
      "True\n",
      "<class 'bool'>\n",
      "False\n",
      "<class 'bool'>\n",
      "13.78\n",
      "<class 'float'>\n",
      "(3+4j)\n",
      "<class 'complex'>\n"
     ]
    }
   ],
   "source": [
    "for i in l :\n",
    "    print(i)\n",
    "    print(type(i))"
   ]
  },
  {
   "cell_type": "markdown",
   "id": "b984caee-0dbb-431b-ae89-661f6c9dade1",
   "metadata": {},
   "source": [
    "Question 5"
   ]
  },
  {
   "cell_type": "code",
   "execution_count": 5,
   "id": "b513b566-db22-4a55-bad0-7df57c3b0af4",
   "metadata": {},
   "outputs": [
    {
     "name": "stdout",
     "output_type": "stream",
     "text": [
      "Enter 1st number:\n"
     ]
    },
    {
     "name": "stdin",
     "output_type": "stream",
     "text": [
      " 20\n"
     ]
    },
    {
     "name": "stdout",
     "output_type": "stream",
     "text": [
      "Enter 2nd number:\n"
     ]
    },
    {
     "name": "stdin",
     "output_type": "stream",
     "text": [
      " 2\n"
     ]
    },
    {
     "name": "stdout",
     "output_type": "stream",
     "text": [
      "10\n"
     ]
    }
   ],
   "source": [
    "print('Enter 1st number:')\n",
    "a=int(input())\n",
    "print('Enter 2nd number:')\n",
    "b=int(input())\n",
    "i=1\n",
    "while i<a:\n",
    "    if b*i==a:\n",
    "       break\n",
    "    else :\n",
    "        i+=1\n",
    "  \n",
    "print(i) "
   ]
  },
  {
   "cell_type": "markdown",
   "id": "57e48570-85d2-4bd9-afcd-23bac374c9cc",
   "metadata": {},
   "source": [
    "Question 6"
   ]
  },
  {
   "cell_type": "code",
   "execution_count": 6,
   "id": "3e26981a-9fa5-4a93-989e-ced248941986",
   "metadata": {},
   "outputs": [],
   "source": [
    "L=[12,17,14,81,78,67,64,35,64,84,45,31,33,762,68,90,76,87,18,86,75,54,72,137,538]"
   ]
  },
  {
   "cell_type": "code",
   "execution_count": 12,
   "id": "bbb4a7de-14ab-4144-8326-736500ff2ad1",
   "metadata": {},
   "outputs": [
    {
     "name": "stdout",
     "output_type": "stream",
     "text": [
      "12\n",
      "is divisible\n",
      "17\n",
      "is not divisible\n",
      "14\n",
      "is not divisible\n",
      "81\n",
      "is divisible\n",
      "78\n",
      "is divisible\n",
      "67\n",
      "is not divisible\n",
      "64\n",
      "is not divisible\n",
      "35\n",
      "is not divisible\n",
      "64\n",
      "is not divisible\n",
      "84\n",
      "is divisible\n",
      "45\n",
      "is divisible\n",
      "31\n",
      "is not divisible\n",
      "33\n",
      "is divisible\n",
      "762\n",
      "is divisible\n",
      "68\n",
      "is not divisible\n",
      "90\n",
      "is divisible\n",
      "76\n",
      "is not divisible\n",
      "87\n",
      "is divisible\n",
      "18\n",
      "is divisible\n",
      "86\n",
      "is not divisible\n",
      "75\n",
      "is divisible\n",
      "54\n",
      "is divisible\n",
      "72\n",
      "is divisible\n",
      "137\n",
      "is not divisible\n",
      "538\n",
      "is not divisible\n"
     ]
    }
   ],
   "source": [
    "for i in L:\n",
    "    if i%3==0:\n",
    "        print(i)\n",
    "        print(\"is divisible\")\n",
    "    else:\n",
    "        print(i) \n",
    "        print(\"is not divisible\")\n",
    "        "
   ]
  },
  {
   "cell_type": "markdown",
   "id": "ad0870b8-4e4e-45bd-ad62-85e9a14c5ca5",
   "metadata": {},
   "source": [
    "Question 7"
   ]
  },
  {
   "cell_type": "raw",
   "id": "f1a65cf5-99be-4992-98d0-2ef5aa0f23c3",
   "metadata": {},
   "source": [
    "# Mutable data type is the type of data whose value can be altered while accessing it"
   ]
  },
  {
   "cell_type": "code",
   "execution_count": 15,
   "id": "b334c816-e636-4e9e-bdc4-63d9be8818c8",
   "metadata": {},
   "outputs": [],
   "source": [
    "l[2]=800"
   ]
  },
  {
   "cell_type": "code",
   "execution_count": 16,
   "id": "ef269ba3-9247-4cf4-a07b-5f351bc3f76f",
   "metadata": {},
   "outputs": [
    {
     "data": {
      "text/plain": [
       "[12, 13, 800, 'A', 'python', 'harsh', True, False, 13.78, (3+4j)]"
      ]
     },
     "execution_count": 16,
     "metadata": {},
     "output_type": "execute_result"
    }
   ],
   "source": [
    "l"
   ]
  },
  {
   "cell_type": "raw",
   "id": "ac685798-6108-44b1-979f-4b6b4b876ebe",
   "metadata": {},
   "source": [
    "# Immutable data type is the type of data whole value can't be altered while accessing it"
   ]
  },
  {
   "cell_type": "code",
   "execution_count": 20,
   "id": "7e16cf43-ed73-4e28-9040-428aa42994b5",
   "metadata": {},
   "outputs": [
    {
     "ename": "TypeError",
     "evalue": "'str' object does not support item assignment",
     "output_type": "error",
     "traceback": [
      "\u001b[0;31m---------------------------------------------------------------------------\u001b[0m",
      "\u001b[0;31mTypeError\u001b[0m                                 Traceback (most recent call last)",
      "Cell \u001b[0;32mIn[20], line 1\u001b[0m\n\u001b[0;32m----> 1\u001b[0m \u001b[43ms\u001b[49m\u001b[43m[\u001b[49m\u001b[38;5;241;43m4\u001b[39;49m\u001b[43m]\u001b[49m\u001b[38;5;241m=\u001b[39m\u001b[38;5;124m'\u001b[39m\u001b[38;5;124ma\u001b[39m\u001b[38;5;124m'\u001b[39m\n",
      "\u001b[0;31mTypeError\u001b[0m: 'str' object does not support item assignment"
     ]
    }
   ],
   "source": [
    "s[4]='a'"
   ]
  }
 ],
 "metadata": {
  "kernelspec": {
   "display_name": "Python 3 (ipykernel)",
   "language": "python",
   "name": "python3"
  },
  "language_info": {
   "codemirror_mode": {
    "name": "ipython",
    "version": 3
   },
   "file_extension": ".py",
   "mimetype": "text/x-python",
   "name": "python",
   "nbconvert_exporter": "python",
   "pygments_lexer": "ipython3",
   "version": "3.10.8"
  }
 },
 "nbformat": 4,
 "nbformat_minor": 5
}
