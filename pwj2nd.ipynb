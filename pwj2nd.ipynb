{
 "cells": [
  {
   "cell_type": "markdown",
   "id": "2fc5059d-27c0-48cd-a9e5-06e80d4039ee",
   "metadata": {},
   "source": [
    "Question 1 "
   ]
  },
  {
   "cell_type": "code",
   "execution_count": 37,
   "id": "7b020071-8f48-46b8-b2d2-6673cfc1d08e",
   "metadata": {},
   "outputs": [],
   "source": [
    "## We use comment to explain the significance of the code so that  reader  has a clear  understanding of the working of the code\n",
    "## There are three types of comment in python - singline,multiline,docstring"
   ]
  },
  {
   "cell_type": "markdown",
   "id": "993ab886-03c7-4293-8f82-5a775aab5344",
   "metadata": {},
   "source": [
    "Question 2"
   ]
  },
  {
   "cell_type": "code",
   "execution_count": 1,
   "id": "7f3ffbf8-ec1f-41b4-ab2a-cd4446d318a6",
   "metadata": {},
   "outputs": [],
   "source": [
    "## Variables are like name to a datatype it creates a memory location for a datatype which may or maynot hold values of a given datatype\n",
    "## We declare and assign values to variable just by using assignment operator eg.a=5,s=\"string\",etc"
   ]
  },
  {
   "cell_type": "markdown",
   "id": "1ad06bf6-bbc7-46b7-a1da-f799e13fd981",
   "metadata": {},
   "source": [
    "Question 3 "
   ]
  },
  {
   "cell_type": "code",
   "execution_count": 2,
   "id": "d5359114-901f-4603-8d79-c6a7e80ad825",
   "metadata": {},
   "outputs": [],
   "source": [
    "## We convert one datatype to another by using type casting eg. a=str(5)."
   ]
  },
  {
   "cell_type": "markdown",
   "id": "0e99e1ce-66ae-4a78-be84-f5d6dd5d4479",
   "metadata": {},
   "source": [
    "Question 4 "
   ]
  },
  {
   "cell_type": "code",
   "execution_count": 9,
   "id": "aa15b1a2-3c7d-4cc7-a4d0-3c2ccc9efe37",
   "metadata": {},
   "outputs": [],
   "source": [
    "def first(a):\n",
    " c=a**a\n",
    " return c"
   ]
  },
  {
   "cell_type": "code",
   "execution_count": 10,
   "id": "a105076c-5871-4158-91ca-562322ee7ce5",
   "metadata": {},
   "outputs": [
    {
     "data": {
      "text/plain": [
       "27"
      ]
     },
     "execution_count": 10,
     "metadata": {},
     "output_type": "execute_result"
    }
   ],
   "source": [
    "first(3)"
   ]
  },
  {
   "cell_type": "markdown",
   "id": "7e0891b6-4511-4725-9a65-86d8f8b03e01",
   "metadata": {},
   "source": [
    "Question 5"
   ]
  },
  {
   "cell_type": "code",
   "execution_count": 12,
   "id": "092412f7-4ac3-45a6-ae9e-d54a787d4306",
   "metadata": {},
   "outputs": [],
   "source": [
    "l=[1,2,3,4,5]"
   ]
  },
  {
   "cell_type": "code",
   "execution_count": 13,
   "id": "a1d01fc0-8716-4e47-be7c-6d5b7766ff3f",
   "metadata": {},
   "outputs": [],
   "source": [
    "l1=l[1:3]"
   ]
  },
  {
   "cell_type": "code",
   "execution_count": 14,
   "id": "747952f8-eefe-48c3-b741-d078d291d2ca",
   "metadata": {},
   "outputs": [
    {
     "data": {
      "text/plain": [
       "[2, 3]"
      ]
     },
     "execution_count": 14,
     "metadata": {},
     "output_type": "execute_result"
    }
   ],
   "source": [
    "l1"
   ]
  },
  {
   "cell_type": "markdown",
   "id": "3ca19ff9-91f3-4878-8948-37dfeeee9048",
   "metadata": {},
   "source": [
    "Question 6"
   ]
  },
  {
   "cell_type": "code",
   "execution_count": 15,
   "id": "b59e8a63-58e3-4704-a86b-4b3d1ac6202e",
   "metadata": {},
   "outputs": [],
   "source": [
    "## Complex no. in math is represented by \"z=x+iy\",where x,y are real no. but 'x' is real part and 'iy' is the imaginary.\n",
    "## but complex no. in puthon is represented by\n",
    "z=3+4j"
   ]
  },
  {
   "cell_type": "code",
   "execution_count": 16,
   "id": "571d7eba-b2c2-49ad-8f09-999701717002",
   "metadata": {},
   "outputs": [
    {
     "data": {
      "text/plain": [
       "(3+4j)"
      ]
     },
     "execution_count": 16,
     "metadata": {},
     "output_type": "execute_result"
    }
   ],
   "source": [
    "z"
   ]
  },
  {
   "cell_type": "markdown",
   "id": "0128c819-7bc2-403d-afdd-6df3c64adb6b",
   "metadata": {},
   "source": [
    "Question 7"
   ]
  },
  {
   "cell_type": "code",
   "execution_count": 17,
   "id": "ae154577-230f-4541-a843-a92a437512c3",
   "metadata": {},
   "outputs": [],
   "source": [
    "age=25"
   ]
  },
  {
   "cell_type": "code",
   "execution_count": 18,
   "id": "81ad5b09-f4ec-4f3d-bac0-0481e7b79d70",
   "metadata": {},
   "outputs": [
    {
     "data": {
      "text/plain": [
       "25"
      ]
     },
     "execution_count": 18,
     "metadata": {},
     "output_type": "execute_result"
    }
   ],
   "source": [
    "age"
   ]
  },
  {
   "cell_type": "markdown",
   "id": "b9c73d25-3c03-4634-a256-43782141f8e0",
   "metadata": {},
   "source": [
    "Question 8"
   ]
  },
  {
   "cell_type": "code",
   "execution_count": 22,
   "id": "676cba7c-3afa-45e6-802d-df0f4b2d7bda",
   "metadata": {},
   "outputs": [],
   "source": [
    "price=9.99"
   ]
  },
  {
   "cell_type": "code",
   "execution_count": 23,
   "id": "d6576858-4987-436e-88f9-008aefa60f28",
   "metadata": {},
   "outputs": [
    {
     "data": {
      "text/plain": [
       "float"
      ]
     },
     "execution_count": 23,
     "metadata": {},
     "output_type": "execute_result"
    }
   ],
   "source": [
    "type(price)"
   ]
  },
  {
   "cell_type": "code",
   "execution_count": 21,
   "id": "17a0833c-3c02-4ccc-a430-518b2c0248a1",
   "metadata": {},
   "outputs": [
    {
     "data": {
      "text/plain": [
       "' It belongs to float datatype'"
      ]
     },
     "execution_count": 21,
     "metadata": {},
     "output_type": "execute_result"
    }
   ],
   "source": [
    "\"\"\" It belongs to float datatype\"\"\""
   ]
  },
  {
   "cell_type": "markdown",
   "id": "2093801b-a670-44dd-9b6c-1cb13b422326",
   "metadata": {},
   "source": [
    "Question 9"
   ]
  },
  {
   "cell_type": "code",
   "execution_count": 25,
   "id": "e4238410-6d03-487c-b9fc-d2afbfe58326",
   "metadata": {},
   "outputs": [],
   "source": [
    "name=\"Harsh Singh\""
   ]
  },
  {
   "cell_type": "code",
   "execution_count": 26,
   "id": "2b7ca045-b2d4-4409-87aa-f418981c4660",
   "metadata": {},
   "outputs": [],
   "source": [
    "\"\"\" We find it's value by counting the length of the string\"\"\"\n",
    "l=len(name)"
   ]
  },
  {
   "cell_type": "code",
   "execution_count": 27,
   "id": "0754694e-11d8-405d-8b60-1a0c28031658",
   "metadata": {},
   "outputs": [
    {
     "data": {
      "text/plain": [
       "11"
      ]
     },
     "execution_count": 27,
     "metadata": {},
     "output_type": "execute_result"
    }
   ],
   "source": [
    "l"
   ]
  },
  {
   "cell_type": "markdown",
   "id": "96df5ff9-6676-4877-b871-c9311a999bc4",
   "metadata": {},
   "source": [
    "Question 10"
   ]
  },
  {
   "cell_type": "code",
   "execution_count": 28,
   "id": "e4f8a837-08d5-4304-a245-d7a12c3326a9",
   "metadata": {},
   "outputs": [],
   "source": [
    "s=\"Hello,World!\""
   ]
  },
  {
   "cell_type": "code",
   "execution_count": 30,
   "id": "aa9d1f19-2f6d-410a-9047-1ba005551737",
   "metadata": {},
   "outputs": [],
   "source": [
    "s1=s[6:11]"
   ]
  },
  {
   "cell_type": "code",
   "execution_count": 31,
   "id": "34e45b8d-eea8-45c4-aa43-a7372655a306",
   "metadata": {},
   "outputs": [
    {
     "data": {
      "text/plain": [
       "'World'"
      ]
     },
     "execution_count": 31,
     "metadata": {},
     "output_type": "execute_result"
    }
   ],
   "source": [
    "s1"
   ]
  },
  {
   "cell_type": "markdown",
   "id": "f43425ba-a6ca-4ee9-bb5f-b4e93ef1f573",
   "metadata": {},
   "source": [
    "Question 11"
   ]
  },
  {
   "cell_type": "code",
   "execution_count": 34,
   "id": "0ab1a808-dccd-49ca-be75-2fbd39e6dd24",
   "metadata": {},
   "outputs": [
    {
     "name": "stdout",
     "output_type": "stream",
     "text": [
      "yes\n"
     ]
    }
   ],
   "source": [
    "is_student=True\n",
    "if is_student==True :\n",
    " print(\"yes\")\n",
    "else :\n",
    " print(\"No\")"
   ]
  },
  {
   "cell_type": "code",
   "execution_count": 36,
   "id": "bee3c673-bc08-496c-9064-76ac79d9c11d",
   "metadata": {},
   "outputs": [],
   "source": [
    "##The End"
   ]
  },
  {
   "cell_type": "code",
   "execution_count": null,
   "id": "409522d9-7c37-4fa1-a62d-f74d8949c125",
   "metadata": {},
   "outputs": [],
   "source": []
  },
  {
   "cell_type": "code",
   "execution_count": null,
   "id": "6d40dc4a-e549-431b-a9f1-8918e1cbbca3",
   "metadata": {},
   "outputs": [],
   "source": []
  },
  {
   "cell_type": "code",
   "execution_count": null,
   "id": "c8bf44e1-76dd-42d5-b2a8-35400569f24e",
   "metadata": {},
   "outputs": [],
   "source": []
  },
  {
   "cell_type": "code",
   "execution_count": null,
   "id": "f563d025-c5d7-4f85-835f-4c8a0bb5b9df",
   "metadata": {},
   "outputs": [],
   "source": []
  }
 ],
 "metadata": {
  "kernelspec": {
   "display_name": "Python 3 (ipykernel)",
   "language": "python",
   "name": "python3"
  },
  "language_info": {
   "codemirror_mode": {
    "name": "ipython",
    "version": 3
   },
   "file_extension": ".py",
   "mimetype": "text/x-python",
   "name": "python",
   "nbconvert_exporter": "python",
   "pygments_lexer": "ipython3",
   "version": "3.10.8"
  }
 },
 "nbformat": 4,
 "nbformat_minor": 5
}
